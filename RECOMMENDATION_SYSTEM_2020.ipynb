{
  "nbformat": 4,
  "nbformat_minor": 0,
  "metadata": {
    "colab": {
      "name": "RECOMMENDATION_SYSTEM_2020.ipynb",
      "provenance": [],
      "collapsed_sections": []
    },
    "kernelspec": {
      "name": "python3",
      "display_name": "Python 3"
    }
  },
  "cells": [
    {
      "cell_type": "code",
      "metadata": {
        "id": "ZUyyraizUHI6",
        "colab_type": "code",
        "colab": {
          "base_uri": "https://localhost:8080/",
          "height": 127
        },
        "outputId": "5001ac40-6583-48b2-b77c-b0371a4c188c"
      },
      "source": [
        "#if running locally dont run this cell\n",
        "from google.colab import drive\n",
        "drive.mount('/content/drive')"
      ],
      "execution_count": 1,
      "outputs": [
        {
          "output_type": "stream",
          "text": [
            "Go to this URL in a browser: https://accounts.google.com/o/oauth2/auth?client_id=947318989803-6bn6qk8qdgf4n4g3pfee6491hc0brc4i.apps.googleusercontent.com&redirect_uri=urn%3aietf%3awg%3aoauth%3a2.0%3aoob&scope=email%20https%3a%2f%2fwww.googleapis.com%2fauth%2fdocs.test%20https%3a%2f%2fwww.googleapis.com%2fauth%2fdrive%20https%3a%2f%2fwww.googleapis.com%2fauth%2fdrive.photos.readonly%20https%3a%2f%2fwww.googleapis.com%2fauth%2fpeopleapi.readonly&response_type=code\n",
            "\n",
            "Enter your authorization code:\n",
            "4/4AG5feYaWB5bh1CzI3hHrlBZSaEaRtAfFNKwDaULQkz8-uNVkMVpmlQ\n",
            "Mounted at /content/drive\n"
          ],
          "name": "stdout"
        }
      ]
    },
    {
      "cell_type": "code",
      "metadata": {
        "id": "Yxd_hgUQUlud",
        "colab_type": "code",
        "colab": {}
      },
      "source": [
        "loc = '/content/drive/My Drive/data_amazon/subdir/pairs_Category.txt'"
      ],
      "execution_count": 2,
      "outputs": []
    },
    {
      "cell_type": "code",
      "metadata": {
        "id": "wtiBErzaYjFD",
        "colab_type": "code",
        "colab": {}
      },
      "source": [
        "import pandas as pd\n",
        "import numpy as np"
      ],
      "execution_count": 3,
      "outputs": []
    },
    {
      "cell_type": "code",
      "metadata": {
        "id": "YfxAI4KKYREU",
        "colab_type": "code",
        "colab": {
          "base_uri": "https://localhost:8080/",
          "height": 222
        },
        "outputId": "4ccd0bb7-c41d-4c5e-f098-a437c9f3898e"
      },
      "source": [
        "pairs_Category = pd.read_csv(loc, sep=\"-\", header=None)\n",
        "pairs_Category.columns = [\"reviewerID\", \"reviewHash\"]\n",
        "pairs_Category.drop([0],inplace=True)\n",
        "print('len ',len(pairs_Category))\n",
        "# pred - category - column 3\n",
        "pairs_Category.head()"
      ],
      "execution_count": 4,
      "outputs": [
        {
          "output_type": "stream",
          "text": [
            "len  14000\n"
          ],
          "name": "stdout"
        },
        {
          "output_type": "execute_result",
          "data": {
            "text/html": [
              "<div>\n",
              "<style scoped>\n",
              "    .dataframe tbody tr th:only-of-type {\n",
              "        vertical-align: middle;\n",
              "    }\n",
              "\n",
              "    .dataframe tbody tr th {\n",
              "        vertical-align: top;\n",
              "    }\n",
              "\n",
              "    .dataframe thead th {\n",
              "        text-align: right;\n",
              "    }\n",
              "</style>\n",
              "<table border=\"1\" class=\"dataframe\">\n",
              "  <thead>\n",
              "    <tr style=\"text-align: right;\">\n",
              "      <th></th>\n",
              "      <th>reviewerID</th>\n",
              "      <th>reviewHash</th>\n",
              "    </tr>\n",
              "  </thead>\n",
              "  <tbody>\n",
              "    <tr>\n",
              "      <th>1</th>\n",
              "      <td>U281659737</td>\n",
              "      <td>R934811302</td>\n",
              "    </tr>\n",
              "    <tr>\n",
              "      <th>2</th>\n",
              "      <td>U670561057</td>\n",
              "      <td>R657711680</td>\n",
              "    </tr>\n",
              "    <tr>\n",
              "      <th>3</th>\n",
              "      <td>U433746872</td>\n",
              "      <td>R750304163</td>\n",
              "    </tr>\n",
              "    <tr>\n",
              "      <th>4</th>\n",
              "      <td>U327816997</td>\n",
              "      <td>R865011815</td>\n",
              "    </tr>\n",
              "    <tr>\n",
              "      <th>5</th>\n",
              "      <td>U323131234</td>\n",
              "      <td>R222729968</td>\n",
              "    </tr>\n",
              "  </tbody>\n",
              "</table>\n",
              "</div>"
            ],
            "text/plain": [
              "   reviewerID  reviewHash\n",
              "1  U281659737  R934811302\n",
              "2  U670561057  R657711680\n",
              "3  U433746872  R750304163\n",
              "4  U327816997  R865011815\n",
              "5  U323131234  R222729968"
            ]
          },
          "metadata": {
            "tags": []
          },
          "execution_count": 4
        }
      ]
    },
    {
      "cell_type": "code",
      "metadata": {
        "id": "G6Irr1ZgYRoV",
        "colab_type": "code",
        "colab": {
          "base_uri": "https://localhost:8080/",
          "height": 35
        },
        "outputId": "698cdc55-2794-4591-9265-29f6e7bad135"
      },
      "source": [
        "len(pairs_Category),pairs_Category.shape"
      ],
      "execution_count": 5,
      "outputs": [
        {
          "output_type": "execute_result",
          "data": {
            "text/plain": [
              "(14000, (14000, 2))"
            ]
          },
          "metadata": {
            "tags": []
          },
          "execution_count": 5
        }
      ]
    },
    {
      "cell_type": "code",
      "metadata": {
        "id": "EhhJngC9aAm0",
        "colab_type": "code",
        "colab": {
          "base_uri": "https://localhost:8080/",
          "height": 53
        },
        "outputId": "8fc0aff0-9b39-4eec-f2c4-a033d86de80d"
      },
      "source": [
        "train = pd.read_csv('/content/drive/My Drive/data_amazon/subdir/train.csv')\n",
        "print('lenth of train ', len(train))\n",
        "train.categoryID.unique()"
      ],
      "execution_count": 6,
      "outputs": [
        {
          "output_type": "stream",
          "text": [
            "lenth of train  199992\n"
          ],
          "name": "stdout"
        },
        {
          "output_type": "execute_result",
          "data": {
            "text/plain": [
              "array([0, 4, 3, 1, 2])"
            ]
          },
          "metadata": {
            "tags": []
          },
          "execution_count": 6
        }
      ]
    },
    {
      "cell_type": "code",
      "metadata": {
        "id": "L1vvqXbeYSJc",
        "colab_type": "code",
        "colab": {
          "base_uri": "https://localhost:8080/",
          "height": 204
        },
        "outputId": "08d29f54-95e2-41d8-e492-e1fbb8977683"
      },
      "source": [
        "train.head()"
      ],
      "execution_count": 7,
      "outputs": [
        {
          "output_type": "execute_result",
          "data": {
            "text/html": [
              "<div>\n",
              "<style scoped>\n",
              "    .dataframe tbody tr th:only-of-type {\n",
              "        vertical-align: middle;\n",
              "    }\n",
              "\n",
              "    .dataframe tbody tr th {\n",
              "        vertical-align: top;\n",
              "    }\n",
              "\n",
              "    .dataframe thead th {\n",
              "        text-align: right;\n",
              "    }\n",
              "</style>\n",
              "<table border=\"1\" class=\"dataframe\">\n",
              "  <thead>\n",
              "    <tr style=\"text-align: right;\">\n",
              "      <th></th>\n",
              "      <th>reviewTime</th>\n",
              "      <th>reviewText</th>\n",
              "      <th>helpful</th>\n",
              "      <th>reviewerID</th>\n",
              "      <th>reviewHash</th>\n",
              "      <th>categories</th>\n",
              "      <th>unixReviewTime</th>\n",
              "      <th>itemID</th>\n",
              "      <th>rating</th>\n",
              "      <th>summary</th>\n",
              "      <th>categoryID</th>\n",
              "    </tr>\n",
              "  </thead>\n",
              "  <tbody>\n",
              "    <tr>\n",
              "      <th>0</th>\n",
              "      <td>2013-09-26</td>\n",
              "      <td>The model in this picture has them rolled up a...</td>\n",
              "      <td>{'nHelpful': 0, 'outOf': 0}</td>\n",
              "      <td>U490934656</td>\n",
              "      <td>R798569390</td>\n",
              "      <td>[['Clothing, Shoes &amp; Jewelry', 'Women'], ['Clo...</td>\n",
              "      <td>1380153600</td>\n",
              "      <td>I402344648</td>\n",
              "      <td>4.0</td>\n",
              "      <td>High Waisted</td>\n",
              "      <td>0</td>\n",
              "    </tr>\n",
              "    <tr>\n",
              "      <th>1</th>\n",
              "      <td>2013-02-07</td>\n",
              "      <td>I love the look of this bra, it is what I want...</td>\n",
              "      <td>{'nHelpful': 0, 'outOf': 0}</td>\n",
              "      <td>U714157797</td>\n",
              "      <td>R436443063</td>\n",
              "      <td>[['Clothing, Shoes &amp; Jewelry', 'Women', 'Cloth...</td>\n",
              "      <td>1360195200</td>\n",
              "      <td>I697650540</td>\n",
              "      <td>4.0</td>\n",
              "      <td>Beautiful but size runs small</td>\n",
              "      <td>0</td>\n",
              "    </tr>\n",
              "    <tr>\n",
              "      <th>2</th>\n",
              "      <td>2014-03-16</td>\n",
              "      <td>I am not comfortable with wearing my wedding b...</td>\n",
              "      <td>{'nHelpful': 0, 'outOf': 0}</td>\n",
              "      <td>U507366950</td>\n",
              "      <td>R103439446</td>\n",
              "      <td>[['Clothing, Shoes &amp; Jewelry', 'Wedding Party ...</td>\n",
              "      <td>1394928000</td>\n",
              "      <td>I464613034</td>\n",
              "      <td>5.0</td>\n",
              "      <td>Great Alternative for Nurses</td>\n",
              "      <td>0</td>\n",
              "    </tr>\n",
              "    <tr>\n",
              "      <th>3</th>\n",
              "      <td>2014-03-10</td>\n",
              "      <td>Like the look of this top and really looks cut...</td>\n",
              "      <td>{'nHelpful': 0, 'outOf': 0}</td>\n",
              "      <td>U307862152</td>\n",
              "      <td>R486351639</td>\n",
              "      <td>[['Clothing, Shoes &amp; Jewelry', 'Women', 'Cloth...</td>\n",
              "      <td>1394409600</td>\n",
              "      <td>I559560885</td>\n",
              "      <td>2.0</td>\n",
              "      <td>One size fits all...Questionable</td>\n",
              "      <td>0</td>\n",
              "    </tr>\n",
              "    <tr>\n",
              "      <th>4</th>\n",
              "      <td>2013-07-30</td>\n",
              "      <td>I'm quite small and the XS fits me like a regu...</td>\n",
              "      <td>{'nHelpful': 1, 'outOf': 1}</td>\n",
              "      <td>U742726598</td>\n",
              "      <td>R508664275</td>\n",
              "      <td>[['Clothing, Shoes &amp; Jewelry', 'Women', 'Plus-...</td>\n",
              "      <td>1375142400</td>\n",
              "      <td>I476005312</td>\n",
              "      <td>5.0</td>\n",
              "      <td>Great shirt</td>\n",
              "      <td>0</td>\n",
              "    </tr>\n",
              "  </tbody>\n",
              "</table>\n",
              "</div>"
            ],
            "text/plain": [
              "   reviewTime  ... categoryID\n",
              "0  2013-09-26  ...          0\n",
              "1  2013-02-07  ...          0\n",
              "2  2014-03-16  ...          0\n",
              "3  2014-03-10  ...          0\n",
              "4  2013-07-30  ...          0\n",
              "\n",
              "[5 rows x 11 columns]"
            ]
          },
          "metadata": {
            "tags": []
          },
          "execution_count": 7
        }
      ]
    },
    {
      "cell_type": "code",
      "metadata": {
        "id": "lUManQbkZQS5",
        "colab_type": "code",
        "colab": {}
      },
      "source": [
        ""
      ],
      "execution_count": 7,
      "outputs": []
    },
    {
      "cell_type": "code",
      "metadata": {
        "id": "AHKG_Yh62mwz",
        "colab_type": "code",
        "colab": {
          "base_uri": "https://localhost:8080/",
          "height": 181
        },
        "outputId": "46ea5d3d-36ed-4d11-96b8-511ed52eaf29"
      },
      "source": [
        "train.categories.unique()"
      ],
      "execution_count": 8,
      "outputs": [
        {
          "output_type": "execute_result",
          "data": {
            "text/plain": [
              "array([\"[['Clothing, Shoes & Jewelry', 'Women'], ['Clothing, Shoes & Jewelry', 'Novelty, Costumes & More', 'Novelty', 'Clothing', 'Women', 'Leggings']]\",\n",
              "       \"[['Clothing, Shoes & Jewelry', 'Women', 'Clothing', 'Lingerie, Sleep & Lounge', 'Intimates', 'Bras', 'Everyday Bras'], ['Clothing, Shoes & Jewelry', 'Women', 'Petite', 'Intimates', 'Bras', 'Everyday Bras']]\",\n",
              "       \"[['Clothing, Shoes & Jewelry', 'Wedding Party Gifts', 'Gifts for the Groomsmen'], ['Clothing, Shoes & Jewelry', 'Women'], ['Clothing, Shoes & Jewelry', 'Novelty, Costumes & More', 'Novelty']]\",\n",
              "       ...,\n",
              "       \"[['Clothing, Shoes & Jewelry', 'Shoes & Accessories: International Shipping Available'], ['Clothing, Shoes & Jewelry', 'M', 'Minnetonka'], ['Clothing, Shoes & Jewelry', 'Women', 'Shoes', 'Flats'], ['Clothing, Shoes & Jewelry', 'Women', 'Shoes', 'Loafers & Slip-Ons']]\",\n",
              "       \"[['Clothing, Shoes & Jewelry', 'Women', 'Jewelry', 'Fine', 'Earrings', 'Stud'], ['Clothing, Shoes & Jewelry', 'Women', 'Jewelry', 'Fashion', 'Earrings', 'Stud'], ['Clothing, Shoes & Jewelry', 'Novelty, Costumes & More', 'Novelty'], ['Clothing, Shoes & Jewelry', 'Test Women AAQ']]\",\n",
              "       \"[['Clothing, Shoes & Jewelry', 'Three, Five & Seven Stone Jewelry', 'Three-Stone Jewelry'], ['Clothing, Shoes & Jewelry', 'Women'], ['Clothing, Shoes & Jewelry', 'Novelty, Costumes & More', 'Novelty', 'Jewelry', 'Rings', 'Statement']]\"],\n",
              "      dtype=object)"
            ]
          },
          "metadata": {
            "tags": []
          },
          "execution_count": 8
        }
      ]
    },
    {
      "cell_type": "code",
      "metadata": {
        "id": "Nuwnfcc9YSPP",
        "colab_type": "code",
        "colab": {
          "base_uri": "https://localhost:8080/",
          "height": 341
        },
        "outputId": "905b0a56-387b-40c3-c696-83e9eca12d0c"
      },
      "source": [
        "train.info()"
      ],
      "execution_count": 9,
      "outputs": [
        {
          "output_type": "stream",
          "text": [
            "<class 'pandas.core.frame.DataFrame'>\n",
            "RangeIndex: 199992 entries, 0 to 199991\n",
            "Data columns (total 11 columns):\n",
            " #   Column          Non-Null Count   Dtype  \n",
            "---  ------          --------------   -----  \n",
            " 0   reviewTime      199992 non-null  object \n",
            " 1   reviewText      199991 non-null  object \n",
            " 2   helpful         199992 non-null  object \n",
            " 3   reviewerID      199992 non-null  object \n",
            " 4   reviewHash      199992 non-null  object \n",
            " 5   categories      199992 non-null  object \n",
            " 6   unixReviewTime  199992 non-null  int64  \n",
            " 7   itemID          199992 non-null  object \n",
            " 8   rating          199992 non-null  float64\n",
            " 9   summary         199992 non-null  object \n",
            " 10  categoryID      199992 non-null  int64  \n",
            "dtypes: float64(1), int64(2), object(8)\n",
            "memory usage: 16.8+ MB\n"
          ],
          "name": "stdout"
        }
      ]
    },
    {
      "cell_type": "code",
      "metadata": {
        "id": "qyfCpKIhYSNy",
        "colab_type": "code",
        "colab": {
          "base_uri": "https://localhost:8080/",
          "height": 240
        },
        "outputId": "5f3c81d0-33f6-499c-a735-af7001f9d726"
      },
      "source": [
        "test_cat = pd.read_csv('/content/drive/My Drive/data_amazon/subdir/test_category.csv')\n",
        "print('lenth of test_cat ', len(test_cat))\n",
        "print('same as pairs_Category')\n",
        "test_cat.head()"
      ],
      "execution_count": 10,
      "outputs": [
        {
          "output_type": "stream",
          "text": [
            "lenth of test_cat  13999\n",
            "same as pairs_Category\n"
          ],
          "name": "stdout"
        },
        {
          "output_type": "execute_result",
          "data": {
            "text/html": [
              "<div>\n",
              "<style scoped>\n",
              "    .dataframe tbody tr th:only-of-type {\n",
              "        vertical-align: middle;\n",
              "    }\n",
              "\n",
              "    .dataframe tbody tr th {\n",
              "        vertical-align: top;\n",
              "    }\n",
              "\n",
              "    .dataframe thead th {\n",
              "        text-align: right;\n",
              "    }\n",
              "</style>\n",
              "<table border=\"1\" class=\"dataframe\">\n",
              "  <thead>\n",
              "    <tr style=\"text-align: right;\">\n",
              "      <th></th>\n",
              "      <th>reviewTime</th>\n",
              "      <th>reviewText</th>\n",
              "      <th>helpful</th>\n",
              "      <th>reviewerID</th>\n",
              "      <th>reviewHash</th>\n",
              "      <th>unixReviewTime</th>\n",
              "      <th>rating</th>\n",
              "      <th>summary</th>\n",
              "    </tr>\n",
              "  </thead>\n",
              "  <tbody>\n",
              "    <tr>\n",
              "      <th>0</th>\n",
              "      <td>2013-07-26</td>\n",
              "      <td>I love this blouse, in fact I have it on right...</td>\n",
              "      <td>{'nHelpful': 9, 'outOf': 9}</td>\n",
              "      <td>U281659737</td>\n",
              "      <td>R934811302</td>\n",
              "      <td>1374796800</td>\n",
              "      <td>5.0</td>\n",
              "      <td>love it</td>\n",
              "    </tr>\n",
              "    <tr>\n",
              "      <th>1</th>\n",
              "      <td>2014-06-08</td>\n",
              "      <td>Cute product. Loved the fit. Fast shipping! I ...</td>\n",
              "      <td>{'nHelpful': 0, 'outOf': 0}</td>\n",
              "      <td>U670561057</td>\n",
              "      <td>R657711680</td>\n",
              "      <td>1402185600</td>\n",
              "      <td>4.0</td>\n",
              "      <td>Cute but a bit uncomfortable</td>\n",
              "    </tr>\n",
              "    <tr>\n",
              "      <th>2</th>\n",
              "      <td>2012-03-21</td>\n",
              "      <td>I wanted a formal watch that had a big face an...</td>\n",
              "      <td>{'nHelpful': 0, 'outOf': 0}</td>\n",
              "      <td>U433746872</td>\n",
              "      <td>R750304163</td>\n",
              "      <td>1332288000</td>\n",
              "      <td>5.0</td>\n",
              "      <td>Bold, Large-face Watch</td>\n",
              "    </tr>\n",
              "    <tr>\n",
              "      <th>3</th>\n",
              "      <td>2014-06-27</td>\n",
              "      <td>My daughter used this dress for her first comm...</td>\n",
              "      <td>{'nHelpful': 0, 'outOf': 0}</td>\n",
              "      <td>U327816997</td>\n",
              "      <td>R865011815</td>\n",
              "      <td>1403827200</td>\n",
              "      <td>5.0</td>\n",
              "      <td>The perfect Dress</td>\n",
              "    </tr>\n",
              "    <tr>\n",
              "      <th>4</th>\n",
              "      <td>2014-03-21</td>\n",
              "      <td>Nice shirt, good quality with pockets.  Kind o...</td>\n",
              "      <td>{'nHelpful': 1, 'outOf': 1}</td>\n",
              "      <td>U323131234</td>\n",
              "      <td>R222729968</td>\n",
              "      <td>1395360000</td>\n",
              "      <td>5.0</td>\n",
              "      <td>Nice shirt</td>\n",
              "    </tr>\n",
              "  </tbody>\n",
              "</table>\n",
              "</div>"
            ],
            "text/plain": [
              "   reviewTime  ...                       summary\n",
              "0  2013-07-26  ...                       love it\n",
              "1  2014-06-08  ...  Cute but a bit uncomfortable\n",
              "2  2012-03-21  ...        Bold, Large-face Watch\n",
              "3  2014-06-27  ...             The perfect Dress\n",
              "4  2014-03-21  ...                    Nice shirt\n",
              "\n",
              "[5 rows x 8 columns]"
            ]
          },
          "metadata": {
            "tags": []
          },
          "execution_count": 10
        }
      ]
    },
    {
      "cell_type": "code",
      "metadata": {
        "id": "FkyiRGjIaM9i",
        "colab_type": "code",
        "colab": {}
      },
      "source": [
        "import pandas as pd \n",
        "from sklearn.feature_extraction.text import CountVectorizer\n",
        "from sklearn import preprocessing\n",
        "from sklearn import model_selection, svm\n",
        "from sklearn.metrics import accuracy_score\n",
        "import pickle\n",
        "import nltk\n",
        "from sklearn.model_selection import train_test_split\n",
        "from sklearn.metrics import classification_report\n",
        "from sklearn.metrics import f1_score\n",
        "from wordcloud import WordCloud\n",
        "import matplotlib.pyplot as plt \n",
        "from sklearn import model_selection, preprocessing"
      ],
      "execution_count": 11,
      "outputs": []
    },
    {
      "cell_type": "code",
      "metadata": {
        "id": "ry_9Qb-6aNCT",
        "colab_type": "code",
        "colab": {
          "base_uri": "https://localhost:8080/",
          "height": 204
        },
        "outputId": "81d9924c-16cb-49ba-d3c3-9e920cc86bbe"
      },
      "source": [
        "test_cat['reviewText'].replace(r'\\b\\w{1,4}\\b','', regex =True, inplace = True)\n",
        "train['reviewText'].replace(r'\\b\\w{1,4}\\b','', regex =True, inplace = True)\n",
        "test_cat['reviewText'].replace(np.nan,'i', regex =True, inplace = True)\n",
        "train['reviewText'].replace(np.nan,'i', regex =True, inplace = True)\n",
        "train.head()"
      ],
      "execution_count": 12,
      "outputs": [
        {
          "output_type": "execute_result",
          "data": {
            "text/html": [
              "<div>\n",
              "<style scoped>\n",
              "    .dataframe tbody tr th:only-of-type {\n",
              "        vertical-align: middle;\n",
              "    }\n",
              "\n",
              "    .dataframe tbody tr th {\n",
              "        vertical-align: top;\n",
              "    }\n",
              "\n",
              "    .dataframe thead th {\n",
              "        text-align: right;\n",
              "    }\n",
              "</style>\n",
              "<table border=\"1\" class=\"dataframe\">\n",
              "  <thead>\n",
              "    <tr style=\"text-align: right;\">\n",
              "      <th></th>\n",
              "      <th>reviewTime</th>\n",
              "      <th>reviewText</th>\n",
              "      <th>helpful</th>\n",
              "      <th>reviewerID</th>\n",
              "      <th>reviewHash</th>\n",
              "      <th>categories</th>\n",
              "      <th>unixReviewTime</th>\n",
              "      <th>itemID</th>\n",
              "      <th>rating</th>\n",
              "      <th>summary</th>\n",
              "      <th>categoryID</th>\n",
              "    </tr>\n",
              "  </thead>\n",
              "  <tbody>\n",
              "    <tr>\n",
              "      <th>0</th>\n",
              "      <td>2013-09-26</td>\n",
              "      <td>model   picture   rolled     because   actual...</td>\n",
              "      <td>{'nHelpful': 0, 'outOf': 0}</td>\n",
              "      <td>U490934656</td>\n",
              "      <td>R798569390</td>\n",
              "      <td>[['Clothing, Shoes &amp; Jewelry', 'Women'], ['Clo...</td>\n",
              "      <td>1380153600</td>\n",
              "      <td>I402344648</td>\n",
              "      <td>4.0</td>\n",
              "      <td>High Waisted</td>\n",
              "      <td>0</td>\n",
              "    </tr>\n",
              "    <tr>\n",
              "      <th>1</th>\n",
              "      <td>2013-02-07</td>\n",
              "      <td>,     wanted, however,   about        sm...</td>\n",
              "      <td>{'nHelpful': 0, 'outOf': 0}</td>\n",
              "      <td>U714157797</td>\n",
              "      <td>R436443063</td>\n",
              "      <td>[['Clothing, Shoes &amp; Jewelry', 'Women', 'Cloth...</td>\n",
              "      <td>1360195200</td>\n",
              "      <td>I697650540</td>\n",
              "      <td>4.0</td>\n",
              "      <td>Beautiful but size runs small</td>\n",
              "      <td>0</td>\n",
              "    </tr>\n",
              "    <tr>\n",
              "      <th>2</th>\n",
              "      <td>2014-03-16</td>\n",
              "      <td>comfortable  wearing  wedding    little dia...</td>\n",
              "      <td>{'nHelpful': 0, 'outOf': 0}</td>\n",
              "      <td>U507366950</td>\n",
              "      <td>R103439446</td>\n",
              "      <td>[['Clothing, Shoes &amp; Jewelry', 'Wedding Party ...</td>\n",
              "      <td>1394928000</td>\n",
              "      <td>I464613034</td>\n",
              "      <td>5.0</td>\n",
              "      <td>Great Alternative for Nurses</td>\n",
              "      <td>0</td>\n",
              "    </tr>\n",
              "    <tr>\n",
              "      <th>3</th>\n",
              "      <td>2014-03-10</td>\n",
              "      <td>really looks   ... closer   decorative ...</td>\n",
              "      <td>{'nHelpful': 0, 'outOf': 0}</td>\n",
              "      <td>U307862152</td>\n",
              "      <td>R486351639</td>\n",
              "      <td>[['Clothing, Shoes &amp; Jewelry', 'Women', 'Cloth...</td>\n",
              "      <td>1394409600</td>\n",
              "      <td>I559560885</td>\n",
              "      <td>2.0</td>\n",
              "      <td>One size fits all...Questionable</td>\n",
              "      <td>0</td>\n",
              "    </tr>\n",
              "    <tr>\n",
              "      <th>4</th>\n",
              "      <td>2013-07-30</td>\n",
              "      <td>' quite small        regular -shirt ( importan...</td>\n",
              "      <td>{'nHelpful': 1, 'outOf': 1}</td>\n",
              "      <td>U742726598</td>\n",
              "      <td>R508664275</td>\n",
              "      <td>[['Clothing, Shoes &amp; Jewelry', 'Women', 'Plus-...</td>\n",
              "      <td>1375142400</td>\n",
              "      <td>I476005312</td>\n",
              "      <td>5.0</td>\n",
              "      <td>Great shirt</td>\n",
              "      <td>0</td>\n",
              "    </tr>\n",
              "  </tbody>\n",
              "</table>\n",
              "</div>"
            ],
            "text/plain": [
              "   reviewTime  ... categoryID\n",
              "0  2013-09-26  ...          0\n",
              "1  2013-02-07  ...          0\n",
              "2  2014-03-16  ...          0\n",
              "3  2014-03-10  ...          0\n",
              "4  2013-07-30  ...          0\n",
              "\n",
              "[5 rows x 11 columns]"
            ]
          },
          "metadata": {
            "tags": []
          },
          "execution_count": 12
        }
      ]
    },
    {
      "cell_type": "code",
      "metadata": {
        "id": "2fwvTPBCaNDp",
        "colab_type": "code",
        "colab": {}
      },
      "source": [
        "vectorizer = CountVectorizer()\n",
        "vectorizer.fit(train['reviewText'])\n",
        "vectr = vectorizer.transform(train['reviewText'])\n"
      ],
      "execution_count": 13,
      "outputs": []
    },
    {
      "cell_type": "code",
      "metadata": {
        "id": "h55aTFfeqsnV",
        "colab_type": "code",
        "colab": {
          "base_uri": "https://localhost:8080/",
          "height": 145
        },
        "outputId": "2b8a6455-d754-42c4-d463-17679b9f9df7"
      },
      "source": [
        "from imblearn.over_sampling import RandomOverSampler\n",
        "ros = RandomOverSampler(random_state=0)\n",
        "X_resampled, y_resampled = ros.fit_resample(vectr, train['categoryID'])"
      ],
      "execution_count": 14,
      "outputs": [
        {
          "output_type": "stream",
          "text": [
            "/usr/local/lib/python3.6/dist-packages/sklearn/externals/six.py:31: FutureWarning: The module is deprecated in version 0.21 and will be removed in version 0.23 since we've dropped support for Python 2.7. Please rely on the official version of six (https://pypi.org/project/six/).\n",
            "  \"(https://pypi.org/project/six/).\", FutureWarning)\n",
            "/usr/local/lib/python3.6/dist-packages/sklearn/utils/deprecation.py:144: FutureWarning: The sklearn.neighbors.base module is  deprecated in version 0.22 and will be removed in version 0.24. The corresponding classes / functions should instead be imported from sklearn.neighbors. Anything that cannot be imported from sklearn.neighbors is now part of the private API.\n",
            "  warnings.warn(message, FutureWarning)\n",
            "/usr/local/lib/python3.6/dist-packages/sklearn/utils/deprecation.py:87: FutureWarning: Function safe_indexing is deprecated; safe_indexing is deprecated in version 0.22 and will be removed in version 0.24.\n",
            "  warnings.warn(msg, category=FutureWarning)\n"
          ],
          "name": "stderr"
        }
      ]
    },
    {
      "cell_type": "code",
      "metadata": {
        "id": "GxOcUQV4rDxq",
        "colab_type": "code",
        "colab": {
          "base_uri": "https://localhost:8080/",
          "height": 35
        },
        "outputId": "90efaedf-ccf6-489e-b28b-7976cbf953a7"
      },
      "source": [
        "from sklearn.model_selection import train_test_split \n",
        "from sklearn.metrics import accuracy_score\n",
        "X_train, X_test, y_train, y_test = train_test_split(X_resampled, y_resampled, test_size=0.20, random_state=42)\n",
        "from sklearn.ensemble import RandomForestClassifier\n",
        "clf = RandomForestClassifier(n_estimators =100, random_state=0)\n",
        "clf.fit(X_train,y_train)\n",
        "pred = clf.predict(X_test)\n",
        "accuracy_score(y_test, pred)"
      ],
      "execution_count": 15,
      "outputs": [
        {
          "output_type": "execute_result",
          "data": {
            "text/plain": [
              "0.972120063369922"
            ]
          },
          "metadata": {
            "tags": []
          },
          "execution_count": 15
        }
      ]
    },
    {
      "cell_type": "code",
      "metadata": {
        "id": "FkIcMmkfaNHt",
        "colab_type": "code",
        "colab": {}
      },
      "source": [
        "#vectorizer.fit(test_cat['reviewText'])\n",
        "vects = vectorizer.transform(test_cat['reviewText'])"
      ],
      "execution_count": 16,
      "outputs": []
    },
    {
      "cell_type": "code",
      "metadata": {
        "id": "6jATSTDdn5tU",
        "colab_type": "code",
        "colab": {}
      },
      "source": [
        "pred=clf.predict(vects)"
      ],
      "execution_count": 17,
      "outputs": []
    },
    {
      "cell_type": "code",
      "metadata": {
        "id": "_aUMR8yxKgqw",
        "colab_type": "code",
        "colab": {
          "base_uri": "https://localhost:8080/",
          "height": 125
        },
        "outputId": "64f54e15-0875-4785-e3f9-aabffed12325"
      },
      "source": [
        "of = test_cat[['reviewerID','reviewHash']]\n",
        "of['predictions'] = pred"
      ],
      "execution_count": 18,
      "outputs": [
        {
          "output_type": "stream",
          "text": [
            "/usr/local/lib/python3.6/dist-packages/ipykernel_launcher.py:2: SettingWithCopyWarning: \n",
            "A value is trying to be set on a copy of a slice from a DataFrame.\n",
            "Try using .loc[row_indexer,col_indexer] = value instead\n",
            "\n",
            "See the caveats in the documentation: https://pandas.pydata.org/pandas-docs/stable/user_guide/indexing.html#returning-a-view-versus-a-copy\n",
            "  \n"
          ],
          "name": "stderr"
        }
      ]
    },
    {
      "cell_type": "code",
      "metadata": {
        "id": "prMmaVe7rf7B",
        "colab_type": "code",
        "colab": {
          "base_uri": "https://localhost:8080/",
          "height": 35
        },
        "outputId": "079637ae-f9df-4478-cab1-75d29a543c8a"
      },
      "source": [
        "of.predictions.unique()"
      ],
      "execution_count": 19,
      "outputs": [
        {
          "output_type": "execute_result",
          "data": {
            "text/plain": [
              "array([0, 1, 3, 4, 2])"
            ]
          },
          "metadata": {
            "tags": []
          },
          "execution_count": 19
        }
      ]
    },
    {
      "cell_type": "code",
      "metadata": {
        "id": "jaiUPpBssPO0",
        "colab_type": "code",
        "colab": {
          "base_uri": "https://localhost:8080/",
          "height": 125
        },
        "outputId": "8534ee7b-4a53-4502-a9cd-6fad47301c04"
      },
      "source": [
        "of['predictions'].value_counts()"
      ],
      "execution_count": 20,
      "outputs": [
        {
          "output_type": "execute_result",
          "data": {
            "text/plain": [
              "0    11596\n",
              "1     2256\n",
              "4       83\n",
              "2       36\n",
              "3       28\n",
              "Name: predictions, dtype: int64"
            ]
          },
          "metadata": {
            "tags": []
          },
          "execution_count": 20
        }
      ]
    },
    {
      "cell_type": "code",
      "metadata": {
        "id": "40ln6a_Jsmzo",
        "colab_type": "code",
        "colab": {
          "base_uri": "https://localhost:8080/",
          "height": 35
        },
        "outputId": "8861d524-4659-4fcb-dc4a-664edf5ef518"
      },
      "source": [
        "p = pd.DataFrame(pred)\n",
        "len(p)"
      ],
      "execution_count": 21,
      "outputs": [
        {
          "output_type": "execute_result",
          "data": {
            "text/plain": [
              "13999"
            ]
          },
          "metadata": {
            "tags": []
          },
          "execution_count": 21
        }
      ]
    },
    {
      "cell_type": "code",
      "metadata": {
        "id": "z4xgigSCs1c0",
        "colab_type": "code",
        "colab": {
          "base_uri": "https://localhost:8080/",
          "height": 35
        },
        "outputId": "f26349a6-d46e-482e-f7ad-45b4323d7c5b"
      },
      "source": [
        "clf.classes_"
      ],
      "execution_count": 22,
      "outputs": [
        {
          "output_type": "execute_result",
          "data": {
            "text/plain": [
              "array([0, 1, 2, 3, 4])"
            ]
          },
          "metadata": {
            "tags": []
          },
          "execution_count": 22
        }
      ]
    },
    {
      "cell_type": "code",
      "metadata": {
        "id": "2kBa1tE3s6-l",
        "colab_type": "code",
        "colab": {
          "base_uri": "https://localhost:8080/",
          "height": 125
        },
        "outputId": "07e24b4c-3b72-4e75-e579-6c27e8299170"
      },
      "source": [
        "train['categoryID'].value_counts()"
      ],
      "execution_count": 23,
      "outputs": [
        {
          "output_type": "execute_result",
          "data": {
            "text/plain": [
              "0    141392\n",
              "1     51414\n",
              "4      2976\n",
              "2      2329\n",
              "3      1881\n",
              "Name: categoryID, dtype: int64"
            ]
          },
          "metadata": {
            "tags": []
          },
          "execution_count": 23
        }
      ]
    },
    {
      "cell_type": "code",
      "metadata": {
        "id": "lrL4l7BOOeOc",
        "colab_type": "code",
        "colab": {}
      },
      "source": [
        "of.to_csv(\"/content/drive/My Drive/data_amazon/category_predictions_updated.txt\", header=None, index=None, sep=' ', mode='a')"
      ],
      "execution_count": 24,
      "outputs": []
    },
    {
      "cell_type": "code",
      "metadata": {
        "id": "0aMAEuQOs03s",
        "colab_type": "code",
        "colab": {}
      },
      "source": [
        ""
      ],
      "execution_count": 24,
      "outputs": []
    }
  ]
}